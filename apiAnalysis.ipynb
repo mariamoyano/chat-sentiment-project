{
 "cells": [
  {
   "cell_type": "code",
   "execution_count": 82,
   "metadata": {},
   "outputs": [],
   "source": [
    "from random import choice\n",
    "import pandas as pd\n",
    "from bson.json_util import dumps\n",
    "import requests\n",
    "import json"
   ]
  },
  {
   "cell_type": "code",
   "execution_count": 83,
   "metadata": {},
   "outputs": [],
   "source": [
    "json_file_path= \"./OUTPUT/clean.json\"\n",
    "with open(json_file_path, \"r\") as file:\n",
    "    data =json.loads(file.read())"
   ]
  },
  {
   "cell_type": "code",
   "execution_count": 84,
   "metadata": {},
   "outputs": [],
   "source": [
    "df = pd.read_csv(\"./OUTPUT/cleanCSV.csv\", encoding='utf-8')"
   ]
  },
  {
   "cell_type": "code",
   "execution_count": 85,
   "metadata": {},
   "outputs": [],
   "source": [
    "author = list(df.Speaker.drop_duplicates())\n",
    "Text =list(df.Text.drop_duplicates())"
   ]
  },
  {
   "cell_type": "markdown",
   "metadata": {},
   "source": [
    "# 1. User endpoints"
   ]
  },
  {
   "cell_type": "markdown",
   "metadata": {},
   "source": [
    "### GET create user"
   ]
  },
  {
   "cell_type": "code",
   "execution_count": 86,
   "metadata": {},
   "outputs": [
    {
     "data": {
      "text/plain": [
       "['5eafe38759da522f6b1d3e2e',\n",
       " '5eafe38759da522f6b1d3e2f',\n",
       " '5eafe38759da522f6b1d3e30',\n",
       " '5eafe38759da522f6b1d3e31',\n",
       " '5eafe38759da522f6b1d3e32']"
      ]
     },
     "execution_count": 86,
     "metadata": {},
     "output_type": "execute_result"
    }
   ],
   "source": [
    "#return user_id\n",
    "users = [choice(author) for e in author]\n",
    "user_id = [requests.get(f\"http://localhost:8080/user/create/{user}\").text for user in users]\n",
    "user_id"
   ]
  },
  {
   "cell_type": "code",
   "execution_count": 87,
   "metadata": {},
   "outputs": [
    {
     "data": {
      "text/plain": [
       "{'Leonard': '5eafe38759da522f6b1d3e2e',\n",
       " 'Sheldon': '5eafe38759da522f6b1d3e2f',\n",
       " 'Penny': '5eafe38759da522f6b1d3e31',\n",
       " 'Raj': '5eafe38759da522f6b1d3e32'}"
      ]
     },
     "execution_count": 87,
     "metadata": {},
     "output_type": "execute_result"
    }
   ],
   "source": [
    "nameUser= {}\n",
    "for i in range(len(users)):\n",
    "    nameUser.update({users[i]:user_id[i]})\n",
    "nameUser"
   ]
  },
  {
   "cell_type": "markdown",
   "metadata": {},
   "source": [
    "### GET recommend friend"
   ]
  },
  {
   "cell_type": "code",
   "execution_count": 88,
   "metadata": {},
   "outputs": [],
   "source": [
    "###Lo calculo despues 3.User recommendation"
   ]
  },
  {
   "cell_type": "markdown",
   "metadata": {},
   "source": [
    "# 2. Chat endpoints"
   ]
  },
  {
   "cell_type": "markdown",
   "metadata": {},
   "source": [
    "### GET  Create a conversation to load messages"
   ]
  },
  {
   "cell_type": "code",
   "execution_count": 89,
   "metadata": {},
   "outputs": [],
   "source": [
    "#For con el numero de usuarios minimo para tener una conversación.\n",
    "strList = ','.join(user_id[:2])"
   ]
  },
  {
   "cell_type": "code",
   "execution_count": 90,
   "metadata": {},
   "outputs": [],
   "source": [
    "#GET  Create a conversation to load messages \n",
    "#**Params:** An array of users ids `[user_id]` ¿? Get coge como parametros diccionarios\n",
    "chat_id = requests.get(url=f\"http://localhost:8080/chat/create\",params={\"users\" :strList})"
   ]
  },
  {
   "cell_type": "code",
   "execution_count": 91,
   "metadata": {
    "scrolled": false
   },
   "outputs": [
    {
     "data": {
      "text/plain": [
       "'5eafe38959da522f6b1d3e33'"
      ]
     },
     "execution_count": 91,
     "metadata": {},
     "output_type": "execute_result"
    }
   ],
   "source": [
    "chat_id=chat_id.text\n",
    "chat_id"
   ]
  },
  {
   "cell_type": "markdown",
   "metadata": {},
   "source": [
    "### GET Add a user to a chat"
   ]
  },
  {
   "cell_type": "code",
   "execution_count": 92,
   "metadata": {},
   "outputs": [],
   "source": [
    "#Añado varios usuarios"
   ]
  },
  {
   "cell_type": "code",
   "execution_count": 93,
   "metadata": {},
   "outputs": [],
   "source": [
    "userToAdd = user_id[3]"
   ]
  },
  {
   "cell_type": "code",
   "execution_count": 94,
   "metadata": {
    "scrolled": false
   },
   "outputs": [
    {
     "data": {
      "text/plain": [
       "<bound method Response.json of <Response [200]>>"
      ]
     },
     "execution_count": 94,
     "metadata": {},
     "output_type": "execute_result"
    }
   ],
   "source": [
    "requests.get(f\"http://localhost:8080/chat/{chat_id}/adduser\",params = {\"users\" :userToAdd}).json"
   ]
  },
  {
   "cell_type": "code",
   "execution_count": 95,
   "metadata": {},
   "outputs": [],
   "source": [
    "userToAdd = user_id[4]"
   ]
  },
  {
   "cell_type": "code",
   "execution_count": 96,
   "metadata": {},
   "outputs": [
    {
     "data": {
      "text/plain": [
       "<bound method Response.json of <Response [200]>>"
      ]
     },
     "execution_count": 96,
     "metadata": {},
     "output_type": "execute_result"
    }
   ],
   "source": [
    "requests.get(f\"http://localhost:8080/chat/{chat_id}/adduser\",params = {\"users\" :userToAdd}).json"
   ]
  },
  {
   "cell_type": "code",
   "execution_count": 97,
   "metadata": {},
   "outputs": [],
   "source": [
    "userToAdd = user_id[2]"
   ]
  },
  {
   "cell_type": "code",
   "execution_count": 98,
   "metadata": {},
   "outputs": [
    {
     "data": {
      "text/plain": [
       "<bound method Response.json of <Response [200]>>"
      ]
     },
     "execution_count": 98,
     "metadata": {},
     "output_type": "execute_result"
    }
   ],
   "source": [
    "requests.get(f\"http://localhost:8080/chat/{chat_id}/adduser\",params = {\"users\" :userToAdd}).json"
   ]
  },
  {
   "cell_type": "markdown",
   "metadata": {},
   "source": [
    "### POST Add a message to the conversation"
   ]
  },
  {
   "cell_type": "code",
   "execution_count": 99,
   "metadata": {},
   "outputs": [],
   "source": [
    "#Añado varios mensajes"
   ]
  },
  {
   "cell_type": "code",
   "execution_count": 118,
   "metadata": {},
   "outputs": [
    {
     "data": {
      "text/plain": [
       "'5eafe39f59da522f6b1d3e46'"
      ]
     },
     "execution_count": 118,
     "metadata": {},
     "output_type": "execute_result"
    }
   ],
   "source": [
    "person = choice(author)\n",
    "quote = choice(Text)\n",
    "add = requests.get(f\"http://localhost:8080/chat/{chat_id}/addmessage\", params = {\"users\":user_id[0],\"message\":quote})\n",
    "add.text"
   ]
  },
  {
   "cell_type": "code",
   "execution_count": 119,
   "metadata": {},
   "outputs": [
    {
     "data": {
      "text/plain": [
       "'5eafe3a059da522f6b1d3e47'"
      ]
     },
     "execution_count": 119,
     "metadata": {},
     "output_type": "execute_result"
    }
   ],
   "source": [
    "person = choice(author)\n",
    "quote = choice(Text)\n",
    "add = requests.get(f\"http://localhost:8080/chat/{chat_id}/addmessage\", params = {\"users\":user_id[1],\"message\":quote})\n",
    "add.text"
   ]
  },
  {
   "cell_type": "code",
   "execution_count": 120,
   "metadata": {},
   "outputs": [
    {
     "data": {
      "text/plain": [
       "'5eafe3a059da522f6b1d3e48'"
      ]
     },
     "execution_count": 120,
     "metadata": {},
     "output_type": "execute_result"
    }
   ],
   "source": [
    "person = choice(author)\n",
    "quote = choice(Text)\n",
    "add = requests.get(f\"http://localhost:8080/chat/{chat_id}/addmessage\", params = {\"users\":user_id[2],\"message\":quote})\n",
    "add.text\n"
   ]
  },
  {
   "cell_type": "code",
   "execution_count": 121,
   "metadata": {},
   "outputs": [
    {
     "data": {
      "text/plain": [
       "'5eafe3a059da522f6b1d3e49'"
      ]
     },
     "execution_count": 121,
     "metadata": {},
     "output_type": "execute_result"
    }
   ],
   "source": [
    "person = choice(author)\n",
    "quote = choice(Text)\n",
    "add = requests.get(f\"http://localhost:8080/chat/{chat_id}/addmessage\", params = {\"users\":user_id[3],\"message\":quote})\n",
    "add.text"
   ]
  },
  {
   "cell_type": "code",
   "execution_count": 122,
   "metadata": {},
   "outputs": [
    {
     "data": {
      "text/plain": [
       "'5eafe3a059da522f6b1d3e4a'"
      ]
     },
     "execution_count": 122,
     "metadata": {},
     "output_type": "execute_result"
    }
   ],
   "source": [
    "person = choice(author)\n",
    "quote = choice(Text)\n",
    "add = requests.get(f\"http://localhost:8080/chat/{chat_id}/addmessage\", params = {\"users\":user_id[4],\"message\":quote})\n",
    "add.text"
   ]
  },
  {
   "cell_type": "markdown",
   "metadata": {},
   "source": [
    "### GET Get all mesages from \"chat_id\""
   ]
  },
  {
   "cell_type": "code",
   "execution_count": 123,
   "metadata": {
    "scrolled": false
   },
   "outputs": [],
   "source": [
    "allmessages=requests.get(f\"http://localhost:8080/chat/{chat_id}/list\")"
   ]
  },
  {
   "cell_type": "code",
   "execution_count": 124,
   "metadata": {},
   "outputs": [
    {
     "data": {
      "text/plain": [
       "'[{\"Messages\": [{\"message_id\": {\"$oid\": \"5eafe38e59da522f6b1d3e34\"}, \"Users\": \"5eafe38759da522f6b1d3e2e\", \"text\": \"Yeah he\\\\u2019s over it that\\\\u2019s why he\\\\u2019s been whining all day about trying to invent that memory-wiper gizmo from Men in Black.\"}, {\"message_id\": {\"$oid\": \"5eafe38f59da522f6b1d3e35\"}, \"Users\": \"5eafe38759da522f6b1d3e2f\", \"text\": \"You sound funny.\"}, {\"message_id\": {\"$oid\": \"5eafe38f59da522f6b1d3e36\"}, \"Users\": \"5eafe38759da522f6b1d3e30\", \"text\": \"Great timing. My check sphincter light just went on.\"}, {\"message_id\": {\"$oid\": \"5eafe38f59da522f6b1d3e37\"}, \"Users\": \"5eafe38759da522f6b1d3e31\", \"text\": \"The Fantastic Four reunited.\"}, {\"message_id\": {\"$oid\": \"5eafe38f59da522f6b1d3e38\"}, \"Users\": \"5eafe38759da522f6b1d3e32\", \"text\": \"Yeah that\\\\u2019s a no.\"}, {\"message_id\": {\"$oid\": \"5eafe39459da522f6b1d3e39\"}, \"Users\": \"5eafe38759da522f6b1d3e2f\", \"text\": \"All right um how about oh how about Rocket Man?\"}, {\"message_id\": {\"$oid\": \"5eafe39459da522f6b1d3e3a\"}, \"Users\": \"5eafe38759da522f6b1d3e30\", \"text\": \"Okay look. Howard I just want to apologize for some things that I have said. About you. I\\\\u2019ve been informed that you have feelings. And apparently I have hurt them. So I\\\\u2019m sorry. Howard.\"}, {\"message_id\": {\"$oid\": \"5eafe39559da522f6b1d3e3b\"}, \"Users\": \"5eafe38759da522f6b1d3e31\", \"text\": \"Aaah!\"}, {\"message_id\": {\"$oid\": \"5eafe39659da522f6b1d3e3c\"}, \"Users\": \"5eafe38759da522f6b1d3e32\", \"text\": \"Yeah i remember us driving up there going to the winery and that\\\\u2019s it.\"}, {\"message_id\": {\"$oid\": \"5eafe39859da522f6b1d3e3d\"}, \"Users\": \"5eafe38759da522f6b1d3e2e\", \"text\": \"Then it\\\\u2019s settled. Amy\\\\u2019s birthday present will be my genitals.\"}, {\"message_id\": {\"$oid\": \"5eafe39859da522f6b1d3e3e\"}, \"Users\": \"5eafe38759da522f6b1d3e2f\", \"text\": \"Oh please. Any contract I sign is enforced by my own personal code of ethics.\"}, {\"message_id\": {\"$oid\": \"5eafe39959da522f6b1d3e3f\"}, \"Users\": \"5eafe38759da522f6b1d3e30\", \"text\": \"Howard never let her go.\"}, {\"message_id\": {\"$oid\": \"5eafe39959da522f6b1d3e40\"}, \"Users\": \"5eafe38759da522f6b1d3e31\", \"text\": \"Maybe he\\\\u2019s having a lover\\\\u2019s spat with Penny.\"}, {\"message_id\": {\"$oid\": \"5eafe39959da522f6b1d3e41\"}, \"Users\": \"5eafe38759da522f6b1d3e32\", \"text\": \"You don\\\\u2019t know that.\"}, {\"message_id\": {\"$oid\": \"5eafe39b59da522f6b1d3e42\"}, \"Users\": \"5eafe38759da522f6b1d3e2f\", \"text\": \"Maybe I\\\\u2019d be better off with Nancy.\"}, {\"message_id\": {\"$oid\": \"5eafe39c59da522f6b1d3e43\"}, \"Users\": \"5eafe38759da522f6b1d3e30\", \"text\": \"Boy it\\\\u2019s good to be back.\"}, {\"message_id\": {\"$oid\": \"5eafe39c59da522f6b1d3e44\"}, \"Users\": \"5eafe38759da522f6b1d3e31\", \"text\": \"Oh. Like Jaws 4 Indiana Jones 4 Daredevil 1.\"}, {\"message_id\": {\"$oid\": \"5eafe39c59da522f6b1d3e45\"}, \"Users\": \"5eafe38759da522f6b1d3e32\", \"text\": \"Break a leg. \"}, {\"message_id\": {\"$oid\": \"5eafe39f59da522f6b1d3e46\"}, \"Users\": \"5eafe38759da522f6b1d3e2e\", \"text\": \"Read it back one more time.\"}, {\"message_id\": {\"$oid\": \"5eafe3a059da522f6b1d3e47\"}, \"Users\": \"5eafe38759da522f6b1d3e2f\", \"text\": \"We\\\\u2019re leaving now!\"}, {\"message_id\": {\"$oid\": \"5eafe3a059da522f6b1d3e48\"}, \"Users\": \"5eafe38759da522f6b1d3e30\", \"text\": \"Oh great. You know what? I\\\\u2019ve already mooched dinner off you guys. I don\\\\u2019t need to listen to this.\"}, {\"message_id\": {\"$oid\": \"5eafe3a059da522f6b1d3e49\"}, \"Users\": \"5eafe38759da522f6b1d3e31\", \"text\": \"He wouldn\\\\u2019t drive me to work today. I had to wear my bus pants.\"}, {\"message_id\": {\"$oid\": \"5eafe3a059da522f6b1d3e4a\"}, \"Users\": \"5eafe38759da522f6b1d3e32\", \"text\": \"That\\\\u2019s not what I\\\\u2019m saying.\"}]}]'"
      ]
     },
     "execution_count": 124,
     "metadata": {},
     "output_type": "execute_result"
    }
   ],
   "source": [
    "allmessages.text"
   ]
  },
  {
   "cell_type": "markdown",
   "metadata": {},
   "source": [
    "### GET all sentiments from messages in the chat "
   ]
  },
  {
   "cell_type": "code",
   "execution_count": 125,
   "metadata": {
    "scrolled": false
   },
   "outputs": [
    {
     "data": {
      "text/plain": [
       "<bound method Response.json of <Response [200]>>"
      ]
     },
     "execution_count": 125,
     "metadata": {},
     "output_type": "execute_result"
    }
   ],
   "source": [
    "sentiments = requests.get(f\"http://localhost:8080/chat/{chat_id}/sentiment\")\n",
    "sentiments.json"
   ]
  },
  {
   "cell_type": "code",
   "execution_count": 126,
   "metadata": {},
   "outputs": [
    {
     "data": {
      "text/plain": [
       "'{\"neg\": 0.049, \"neu\": 0.784, \"pos\": 0.167, \"compound\": 0.9763}'"
      ]
     },
     "execution_count": 126,
     "metadata": {},
     "output_type": "execute_result"
    }
   ],
   "source": [
    "sentiments.text"
   ]
  },
  {
   "cell_type": "markdown",
   "metadata": {},
   "source": [
    "# 3. User recomendation"
   ]
  },
  {
   "cell_type": "code",
   "execution_count": 127,
   "metadata": {},
   "outputs": [],
   "source": [
    "recommendation = requests.get(f\"http://localhost:8080/user/{user_id[3]}/recommend\")"
   ]
  },
  {
   "cell_type": "code",
   "execution_count": 128,
   "metadata": {},
   "outputs": [
    {
     "data": {
      "text/plain": [
       "<Response [200]>"
      ]
     },
     "execution_count": 128,
     "metadata": {},
     "output_type": "execute_result"
    }
   ],
   "source": [
    "recommendation"
   ]
  },
  {
   "cell_type": "code",
   "execution_count": 129,
   "metadata": {},
   "outputs": [
    {
     "data": {
      "text/plain": [
       "'Friend recommendation: 5eafe38759da522f6b1d3e32'"
      ]
     },
     "execution_count": 129,
     "metadata": {},
     "output_type": "execute_result"
    }
   ],
   "source": [
    "recommendation.text"
   ]
  },
  {
   "cell_type": "code",
   "execution_count": null,
   "metadata": {},
   "outputs": [],
   "source": []
  }
 ],
 "metadata": {
  "kernelspec": {
   "display_name": "Python 3",
   "language": "python",
   "name": "python3"
  },
  "language_info": {
   "codemirror_mode": {
    "name": "ipython",
    "version": 3
   },
   "file_extension": ".py",
   "mimetype": "text/x-python",
   "name": "python",
   "nbconvert_exporter": "python",
   "pygments_lexer": "ipython3",
   "version": "3.8.2"
  }
 },
 "nbformat": 4,
 "nbformat_minor": 4
}

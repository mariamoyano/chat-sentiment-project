{
 "cells": [
  {
   "cell_type": "code",
   "execution_count": 135,
   "metadata": {},
   "outputs": [],
   "source": [
    "from random import choice\n",
    "import pandas as pd\n",
    "from bson.json_util import dumps\n",
    "import requests\n",
    "import json"
   ]
  },
  {
   "cell_type": "code",
   "execution_count": 136,
   "metadata": {},
   "outputs": [],
   "source": [
    "json_file_path= \"./OUTPUT/clean.json\"\n",
    "with open(json_file_path, \"r\") as file:\n",
    "    data =json.loads(file.read())"
   ]
  },
  {
   "cell_type": "code",
   "execution_count": 137,
   "metadata": {},
   "outputs": [],
   "source": [
    "df = pd.read_csv(\"./OUTPUT/cleanCSV.csv\", encoding='utf-8')"
   ]
  },
  {
   "cell_type": "code",
   "execution_count": 138,
   "metadata": {},
   "outputs": [],
   "source": [
    "author = list(df.Speaker.drop_duplicates())\n",
    "Text =list(df.Text.drop_duplicates())"
   ]
  },
  {
   "cell_type": "markdown",
   "metadata": {},
   "source": [
    "# 1. User endpoints"
   ]
  },
  {
   "cell_type": "markdown",
   "metadata": {},
   "source": [
    "### GET create user"
   ]
  },
  {
   "cell_type": "code",
   "execution_count": 139,
   "metadata": {},
   "outputs": [
    {
     "data": {
      "text/plain": [
       "['5eaff14659da522f6b1d3e57',\n",
       " '5eaff14659da522f6b1d3e58',\n",
       " '5eaff14659da522f6b1d3e59',\n",
       " '5eaff14659da522f6b1d3e5a',\n",
       " '5eaff14659da522f6b1d3e5b']"
      ]
     },
     "execution_count": 139,
     "metadata": {},
     "output_type": "execute_result"
    }
   ],
   "source": [
    "#return user_id\n",
    "users = [choice(author) for e in author]\n",
    "user_id = [requests.get(f\"http://localhost:8080/user/create/{user}\").text for user in users]\n",
    "user_id"
   ]
  },
  {
   "cell_type": "code",
   "execution_count": 140,
   "metadata": {},
   "outputs": [
    {
     "data": {
      "text/plain": [
       "{'Sheldon': '5eaff14659da522f6b1d3e57',\n",
       " 'Leonard': '5eaff14659da522f6b1d3e58',\n",
       " 'Raj': '5eaff14659da522f6b1d3e59',\n",
       " 'Penny': '5eaff14659da522f6b1d3e5a',\n",
       " 'Howard': '5eaff14659da522f6b1d3e5b'}"
      ]
     },
     "execution_count": 140,
     "metadata": {},
     "output_type": "execute_result"
    }
   ],
   "source": [
    "nameUser= {}\n",
    "for i in range(len(users)):\n",
    "    nameUser.update({users[i]:user_id[i]})\n",
    "nameUser"
   ]
  },
  {
   "cell_type": "markdown",
   "metadata": {},
   "source": [
    "### GET recommend friend"
   ]
  },
  {
   "cell_type": "code",
   "execution_count": 141,
   "metadata": {},
   "outputs": [],
   "source": [
    "###Lo calculo despues 3.User recommendation"
   ]
  },
  {
   "cell_type": "markdown",
   "metadata": {},
   "source": [
    "# 2. Chat endpoints"
   ]
  },
  {
   "cell_type": "markdown",
   "metadata": {},
   "source": [
    "### GET  Create a conversation to load messages"
   ]
  },
  {
   "cell_type": "code",
   "execution_count": 146,
   "metadata": {},
   "outputs": [],
   "source": [
    "#For con el numero de usuarios minimo para tener una conversación.\n",
    "strList = ','.join(user_id[:2])"
   ]
  },
  {
   "cell_type": "code",
   "execution_count": 147,
   "metadata": {},
   "outputs": [],
   "source": [
    "#GET  Create a conversation to load messages \n",
    "#**Params:** An array of users ids `[user_id]` ¿? Get coge como parametros diccionarios\n",
    "chat_id = requests.get(url=f\"http://localhost:8080/chat/create\",params={\"users\" :strList})"
   ]
  },
  {
   "cell_type": "code",
   "execution_count": 148,
   "metadata": {
    "scrolled": false
   },
   "outputs": [
    {
     "data": {
      "text/plain": [
       "'5eaff15c59da522f6b1d3e5d'"
      ]
     },
     "execution_count": 148,
     "metadata": {},
     "output_type": "execute_result"
    }
   ],
   "source": [
    "chat_id=chat_id.text\n",
    "chat_id"
   ]
  },
  {
   "cell_type": "markdown",
   "metadata": {},
   "source": [
    "### GET Add a user to a chat"
   ]
  },
  {
   "cell_type": "code",
   "execution_count": 149,
   "metadata": {},
   "outputs": [],
   "source": [
    "#Añado varios usuarios"
   ]
  },
  {
   "cell_type": "code",
   "execution_count": 150,
   "metadata": {},
   "outputs": [],
   "source": [
    "userToAdd = user_id[3]"
   ]
  },
  {
   "cell_type": "code",
   "execution_count": 151,
   "metadata": {
    "scrolled": false
   },
   "outputs": [
    {
     "data": {
      "text/plain": [
       "<bound method Response.json of <Response [200]>>"
      ]
     },
     "execution_count": 151,
     "metadata": {},
     "output_type": "execute_result"
    }
   ],
   "source": [
    "requests.get(f\"http://localhost:8080/chat/{chat_id}/adduser\",params = {\"users\" :userToAdd}).json"
   ]
  },
  {
   "cell_type": "code",
   "execution_count": 152,
   "metadata": {},
   "outputs": [],
   "source": [
    "userToAdd = user_id[4]"
   ]
  },
  {
   "cell_type": "code",
   "execution_count": 153,
   "metadata": {},
   "outputs": [
    {
     "data": {
      "text/plain": [
       "<bound method Response.json of <Response [200]>>"
      ]
     },
     "execution_count": 153,
     "metadata": {},
     "output_type": "execute_result"
    }
   ],
   "source": [
    "requests.get(f\"http://localhost:8080/chat/{chat_id}/adduser\",params = {\"users\" :userToAdd}).json"
   ]
  },
  {
   "cell_type": "code",
   "execution_count": 154,
   "metadata": {},
   "outputs": [],
   "source": [
    "userToAdd = user_id[2]"
   ]
  },
  {
   "cell_type": "code",
   "execution_count": 155,
   "metadata": {},
   "outputs": [
    {
     "data": {
      "text/plain": [
       "<bound method Response.json of <Response [200]>>"
      ]
     },
     "execution_count": 155,
     "metadata": {},
     "output_type": "execute_result"
    }
   ],
   "source": [
    "requests.get(f\"http://localhost:8080/chat/{chat_id}/adduser\",params = {\"users\" :userToAdd}).json"
   ]
  },
  {
   "cell_type": "markdown",
   "metadata": {},
   "source": [
    "### POST Add a message to the conversation"
   ]
  },
  {
   "cell_type": "code",
   "execution_count": 156,
   "metadata": {},
   "outputs": [],
   "source": [
    "#Añado varios mensajes"
   ]
  },
  {
   "cell_type": "code",
   "execution_count": 157,
   "metadata": {},
   "outputs": [
    {
     "data": {
      "text/plain": [
       "'5eaff18a59da522f6b1d3e5e'"
      ]
     },
     "execution_count": 157,
     "metadata": {},
     "output_type": "execute_result"
    }
   ],
   "source": [
    "person = choice(author)\n",
    "quote = choice(Text)\n",
    "add = requests.get(f\"http://localhost:8080/chat/{chat_id}/addmessage\", params = {\"users\":user_id[0],\"message\":quote})\n",
    "add.text"
   ]
  },
  {
   "cell_type": "code",
   "execution_count": 158,
   "metadata": {},
   "outputs": [
    {
     "data": {
      "text/plain": [
       "'5eaff19059da522f6b1d3e5f'"
      ]
     },
     "execution_count": 158,
     "metadata": {},
     "output_type": "execute_result"
    }
   ],
   "source": [
    "person = choice(author)\n",
    "quote = choice(Text)\n",
    "add = requests.get(f\"http://localhost:8080/chat/{chat_id}/addmessage\", params = {\"users\":user_id[1],\"message\":quote})\n",
    "add.text"
   ]
  },
  {
   "cell_type": "code",
   "execution_count": 159,
   "metadata": {},
   "outputs": [
    {
     "data": {
      "text/plain": [
       "'5eaff19159da522f6b1d3e60'"
      ]
     },
     "execution_count": 159,
     "metadata": {},
     "output_type": "execute_result"
    }
   ],
   "source": [
    "person = choice(author)\n",
    "quote = choice(Text)\n",
    "add = requests.get(f\"http://localhost:8080/chat/{chat_id}/addmessage\", params = {\"users\":user_id[2],\"message\":quote})\n",
    "add.text\n"
   ]
  },
  {
   "cell_type": "code",
   "execution_count": 160,
   "metadata": {},
   "outputs": [
    {
     "data": {
      "text/plain": [
       "'5eaff19159da522f6b1d3e61'"
      ]
     },
     "execution_count": 160,
     "metadata": {},
     "output_type": "execute_result"
    }
   ],
   "source": [
    "person = choice(author)\n",
    "quote = choice(Text)\n",
    "add = requests.get(f\"http://localhost:8080/chat/{chat_id}/addmessage\", params = {\"users\":user_id[3],\"message\":quote})\n",
    "add.text"
   ]
  },
  {
   "cell_type": "code",
   "execution_count": 161,
   "metadata": {},
   "outputs": [
    {
     "data": {
      "text/plain": [
       "'5eaff19159da522f6b1d3e62'"
      ]
     },
     "execution_count": 161,
     "metadata": {},
     "output_type": "execute_result"
    }
   ],
   "source": [
    "person = choice(author)\n",
    "quote = choice(Text)\n",
    "add = requests.get(f\"http://localhost:8080/chat/{chat_id}/addmessage\", params = {\"users\":user_id[4],\"message\":quote})\n",
    "add.text"
   ]
  },
  {
   "cell_type": "markdown",
   "metadata": {},
   "source": [
    "### GET Get all mesages from \"chat_id\""
   ]
  },
  {
   "cell_type": "code",
   "execution_count": 164,
   "metadata": {
    "scrolled": false
   },
   "outputs": [],
   "source": [
    "allmessages=requests.get(f\"http://localhost:8080/chat/{chat_id}/list\")"
   ]
  },
  {
   "cell_type": "code",
   "execution_count": 165,
   "metadata": {},
   "outputs": [
    {
     "data": {
      "text/plain": [
       "'[{\"Messages\": [{\"message_id\": {\"$oid\": \"5eaff18a59da522f6b1d3e5e\"}, \"Users\": \"5eaff14659da522f6b1d3e57\", \"text\": \"Did I? Well that can\\\\u2019t be right. No one\\\\u2019s ever done that before. Except me because I just did it. Sheldon and his brain yeah. Sheldon and his brain yeah. Sheldon and his brain yeah. Sheldon and his brain yeah. Sheldon and his brain\\\\u2026\"}, {\"message_id\": {\"$oid\": \"5eaff19059da522f6b1d3e5f\"}, \"Users\": \"5eaff14659da522f6b1d3e58\", \"text\": \"Well the doctor\\\\u2019s a woman but yes because you never know.\"}, {\"message_id\": {\"$oid\": \"5eaff19159da522f6b1d3e60\"}, \"Users\": \"5eaff14659da522f6b1d3e59\", \"text\": \"I erotically caress your  nose.\"}, {\"message_id\": {\"$oid\": \"5eaff19159da522f6b1d3e61\"}, \"Users\": \"5eaff14659da522f6b1d3e5a\", \"text\": \"I bet that bit killed at The Chuckle Hut.\"}, {\"message_id\": {\"$oid\": \"5eaff19159da522f6b1d3e62\"}, \"Users\": \"5eaff14659da522f6b1d3e5b\", \"text\": \"Oh I was having a little trouble sleeping and I just thought uh seeing as you\\\\u2019re up we could talk.\"}]}]'"
      ]
     },
     "execution_count": 165,
     "metadata": {},
     "output_type": "execute_result"
    }
   ],
   "source": [
    "allmessages.text"
   ]
  },
  {
   "cell_type": "markdown",
   "metadata": {},
   "source": [
    "### GET all sentiments from messages in the chat "
   ]
  },
  {
   "cell_type": "code",
   "execution_count": 166,
   "metadata": {
    "scrolled": false
   },
   "outputs": [
    {
     "data": {
      "text/plain": [
       "<bound method Response.json of <Response [200]>>"
      ]
     },
     "execution_count": 166,
     "metadata": {},
     "output_type": "execute_result"
    }
   ],
   "source": [
    "sentiments = requests.get(f\"http://localhost:8080/chat/{chat_id}/sentiment\")\n",
    "sentiments.json"
   ]
  },
  {
   "cell_type": "code",
   "execution_count": 167,
   "metadata": {},
   "outputs": [
    {
     "data": {
      "text/plain": [
       "'{\"neg\": 0.111, \"neu\": 0.72, \"pos\": 0.168, \"compound\": 0.1629}'"
      ]
     },
     "execution_count": 167,
     "metadata": {},
     "output_type": "execute_result"
    }
   ],
   "source": [
    "sentiments.text"
   ]
  },
  {
   "cell_type": "markdown",
   "metadata": {},
   "source": [
    "# 3. User recomendation"
   ]
  },
  {
   "cell_type": "code",
   "execution_count": 174,
   "metadata": {},
   "outputs": [],
   "source": [
    "recommendation = requests.get(f\"http://localhost:8080/user/{user_id[3]}/recommend\")"
   ]
  },
  {
   "cell_type": "code",
   "execution_count": 175,
   "metadata": {},
   "outputs": [
    {
     "data": {
      "text/plain": [
       "<Response [200]>"
      ]
     },
     "execution_count": 175,
     "metadata": {},
     "output_type": "execute_result"
    }
   ],
   "source": [
    "recommendation"
   ]
  },
  {
   "cell_type": "code",
   "execution_count": 176,
   "metadata": {},
   "outputs": [
    {
     "data": {
      "text/plain": [
       "'{\"Friend recommendation\": \"5eaff14659da522f6b1d3e5b\"}'"
      ]
     },
     "execution_count": 176,
     "metadata": {},
     "output_type": "execute_result"
    }
   ],
   "source": [
    "recommendation.text"
   ]
  },
  {
   "cell_type": "code",
   "execution_count": null,
   "metadata": {},
   "outputs": [],
   "source": []
  },
  {
   "cell_type": "code",
   "execution_count": null,
   "metadata": {},
   "outputs": [],
   "source": []
  }
 ],
 "metadata": {
  "kernelspec": {
   "display_name": "Python 3",
   "language": "python",
   "name": "python3"
  },
  "language_info": {
   "codemirror_mode": {
    "name": "ipython",
    "version": 3
   },
   "file_extension": ".py",
   "mimetype": "text/x-python",
   "name": "python",
   "nbconvert_exporter": "python",
   "pygments_lexer": "ipython3",
   "version": "3.8.2"
  }
 },
 "nbformat": 4,
 "nbformat_minor": 4
}

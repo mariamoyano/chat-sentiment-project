{
 "cells": [
  {
   "cell_type": "code",
   "execution_count": 678,
   "metadata": {},
   "outputs": [],
   "source": [
    "from random import choice\n",
    "import pandas as pd\n",
    "from bson.json_util import dumps\n",
    "import requests\n",
    "import json"
   ]
  },
  {
   "cell_type": "code",
   "execution_count": 679,
   "metadata": {},
   "outputs": [],
   "source": [
    "json_file_path= \"./OUTPUT/clean.json\"\n",
    "with open(json_file_path, \"r\") as file:\n",
    "    data =json.loads(file.read())"
   ]
  },
  {
   "cell_type": "code",
   "execution_count": 680,
   "metadata": {},
   "outputs": [],
   "source": [
    "df = pd.read_csv(\"./OUTPUT/cleanCSV.csv\", encoding='utf-8')"
   ]
  },
  {
   "cell_type": "code",
   "execution_count": 688,
   "metadata": {},
   "outputs": [],
   "source": [
    "author = list(df.Speaker.drop_duplicates())\n",
    "Text =list(df.Text.drop_duplicates())"
   ]
  },
  {
   "cell_type": "markdown",
   "metadata": {},
   "source": [
    "# 1. User endpoints"
   ]
  },
  {
   "cell_type": "markdown",
   "metadata": {},
   "source": [
    "### GET create user"
   ]
  },
  {
   "cell_type": "code",
   "execution_count": 701,
   "metadata": {},
   "outputs": [
    {
     "data": {
      "text/plain": [
       "['5eaf5579ec7ef6471c6b1932',\n",
       " '5eaf5579ec7ef6471c6b1933',\n",
       " '5eaf5579ec7ef6471c6b1934',\n",
       " '5eaf5579ec7ef6471c6b1935',\n",
       " '5eaf5579ec7ef6471c6b1936']"
      ]
     },
     "execution_count": 701,
     "metadata": {},
     "output_type": "execute_result"
    }
   ],
   "source": [
    "#return user_id\n",
    "users = [choice(author) for e in author]\n",
    "user_id = [requests.get(f\"http://localhost:8080/user/create/{user}\").text for user in users]\n",
    "user_id"
   ]
  },
  {
   "cell_type": "code",
   "execution_count": 702,
   "metadata": {},
   "outputs": [
    {
     "data": {
      "text/plain": [
       "{'Leonard': '5eaf5579ec7ef6471c6b1932',\n",
       " 'Raj': '5eaf5579ec7ef6471c6b1933',\n",
       " 'Penny': '5eaf5579ec7ef6471c6b1936',\n",
       " 'Howard': '5eaf5579ec7ef6471c6b1935'}"
      ]
     },
     "execution_count": 702,
     "metadata": {},
     "output_type": "execute_result"
    }
   ],
   "source": [
    "nameUser= {}\n",
    "for i in range(len(users)):\n",
    "    nameUser.update({users[i]:user_id[i]})\n",
    "nameUser"
   ]
  },
  {
   "cell_type": "markdown",
   "metadata": {},
   "source": [
    "### GET recommend friend"
   ]
  },
  {
   "cell_type": "code",
   "execution_count": 703,
   "metadata": {},
   "outputs": [],
   "source": [
    "###Lo calculo despues 3.User recommendation"
   ]
  },
  {
   "cell_type": "markdown",
   "metadata": {},
   "source": [
    "# 2. Chat endpoints"
   ]
  },
  {
   "cell_type": "markdown",
   "metadata": {},
   "source": [
    "### GET  Create a conversation to load messages"
   ]
  },
  {
   "cell_type": "code",
   "execution_count": 704,
   "metadata": {},
   "outputs": [],
   "source": [
    "#For con el numero de usuarios minimo para tener una conversación.\n",
    "strList = ','.join(user_id[:2])"
   ]
  },
  {
   "cell_type": "code",
   "execution_count": 705,
   "metadata": {},
   "outputs": [],
   "source": [
    "#GET  Create a conversation to load messages \n",
    "#**Params:** An array of users ids `[user_id]` ¿? Get coge como parametros diccionarios\n",
    "chat_id = requests.get(url=f\"http://localhost:8080/chat/create\",params={\"users\" :strList})"
   ]
  },
  {
   "cell_type": "code",
   "execution_count": 706,
   "metadata": {
    "scrolled": false
   },
   "outputs": [
    {
     "data": {
      "text/plain": [
       "'5eaf5580ec7ef6471c6b1937'"
      ]
     },
     "execution_count": 706,
     "metadata": {},
     "output_type": "execute_result"
    }
   ],
   "source": [
    "chat_id=chat_id.text\n",
    "chat_id"
   ]
  },
  {
   "cell_type": "markdown",
   "metadata": {},
   "source": [
    "### GET Add a user to a chat"
   ]
  },
  {
   "cell_type": "code",
   "execution_count": 738,
   "metadata": {},
   "outputs": [],
   "source": [
    "#Añado varios usuarios"
   ]
  },
  {
   "cell_type": "code",
   "execution_count": 739,
   "metadata": {},
   "outputs": [],
   "source": [
    "userToAdd = user_id[3]"
   ]
  },
  {
   "cell_type": "code",
   "execution_count": 740,
   "metadata": {
    "scrolled": false
   },
   "outputs": [
    {
     "data": {
      "text/plain": [
       "<bound method Response.json of <Response [200]>>"
      ]
     },
     "execution_count": 740,
     "metadata": {},
     "output_type": "execute_result"
    }
   ],
   "source": [
    "requests.get(f\"http://localhost:8080/chat/{chat_id}/adduser\",params = {\"users\" :userToAdd}).json"
   ]
  },
  {
   "cell_type": "code",
   "execution_count": 741,
   "metadata": {},
   "outputs": [],
   "source": [
    "userToAdd = user_id[4]"
   ]
  },
  {
   "cell_type": "code",
   "execution_count": 742,
   "metadata": {},
   "outputs": [
    {
     "data": {
      "text/plain": [
       "<bound method Response.json of <Response [200]>>"
      ]
     },
     "execution_count": 742,
     "metadata": {},
     "output_type": "execute_result"
    }
   ],
   "source": [
    "requests.get(f\"http://localhost:8080/chat/{chat_id}/adduser\",params = {\"users\" :userToAdd}).json"
   ]
  },
  {
   "cell_type": "code",
   "execution_count": 743,
   "metadata": {},
   "outputs": [],
   "source": [
    "userToAdd = user_id[2]"
   ]
  },
  {
   "cell_type": "code",
   "execution_count": 744,
   "metadata": {},
   "outputs": [
    {
     "data": {
      "text/plain": [
       "<bound method Response.json of <Response [200]>>"
      ]
     },
     "execution_count": 744,
     "metadata": {},
     "output_type": "execute_result"
    }
   ],
   "source": [
    "requests.get(f\"http://localhost:8080/chat/{chat_id}/adduser\",params = {\"users\" :userToAdd}).json"
   ]
  },
  {
   "cell_type": "markdown",
   "metadata": {},
   "source": [
    "### POST Add a message to the conversation"
   ]
  },
  {
   "cell_type": "code",
   "execution_count": 745,
   "metadata": {},
   "outputs": [],
   "source": [
    "#Añado varios mensajes"
   ]
  },
  {
   "cell_type": "code",
   "execution_count": 746,
   "metadata": {},
   "outputs": [
    {
     "data": {
      "text/plain": [
       "'5eaf58f0ec7ef6471c6b194a'"
      ]
     },
     "execution_count": 746,
     "metadata": {},
     "output_type": "execute_result"
    }
   ],
   "source": [
    "person = choice(author)\n",
    "quote = choice(Text)\n",
    "add = requests.get(f\"http://localhost:8080/chat/{chat_id}/addmessage\", params = {\"users\":user_id[0],\"message\":quote})\n",
    "add.text"
   ]
  },
  {
   "cell_type": "code",
   "execution_count": 747,
   "metadata": {},
   "outputs": [
    {
     "data": {
      "text/plain": [
       "'5eaf58f0ec7ef6471c6b194b'"
      ]
     },
     "execution_count": 747,
     "metadata": {},
     "output_type": "execute_result"
    }
   ],
   "source": [
    "person = choice(author)\n",
    "quote = choice(Text)\n",
    "add = requests.get(f\"http://localhost:8080/chat/{chat_id}/addmessage\", params = {\"users\":user_id[1],\"message\":quote})\n",
    "add.text"
   ]
  },
  {
   "cell_type": "code",
   "execution_count": 748,
   "metadata": {},
   "outputs": [
    {
     "data": {
      "text/plain": [
       "'5eaf58f1ec7ef6471c6b194c'"
      ]
     },
     "execution_count": 748,
     "metadata": {},
     "output_type": "execute_result"
    }
   ],
   "source": [
    "person = choice(author)\n",
    "quote = choice(Text)\n",
    "add = requests.get(f\"http://localhost:8080/chat/{chat_id}/addmessage\", params = {\"users\":user_id[2],\"message\":quote})\n",
    "add.text\n"
   ]
  },
  {
   "cell_type": "code",
   "execution_count": 749,
   "metadata": {},
   "outputs": [
    {
     "data": {
      "text/plain": [
       "'5eaf58f1ec7ef6471c6b194d'"
      ]
     },
     "execution_count": 749,
     "metadata": {},
     "output_type": "execute_result"
    }
   ],
   "source": [
    "person = choice(author)\n",
    "quote = choice(Text)\n",
    "add = requests.get(f\"http://localhost:8080/chat/{chat_id}/addmessage\", params = {\"users\":user_id[3],\"message\":quote})\n",
    "add.text"
   ]
  },
  {
   "cell_type": "code",
   "execution_count": 750,
   "metadata": {},
   "outputs": [
    {
     "data": {
      "text/plain": [
       "'5eaf58f1ec7ef6471c6b194e'"
      ]
     },
     "execution_count": 750,
     "metadata": {},
     "output_type": "execute_result"
    }
   ],
   "source": [
    "person = choice(author)\n",
    "quote = choice(Text)\n",
    "add = requests.get(f\"http://localhost:8080/chat/{chat_id}/addmessage\", params = {\"users\":user_id[4],\"message\":quote})\n",
    "add.text"
   ]
  },
  {
   "cell_type": "markdown",
   "metadata": {},
   "source": [
    "### GET Get all mesages from \"chat_id\""
   ]
  },
  {
   "cell_type": "code",
   "execution_count": 751,
   "metadata": {
    "scrolled": false
   },
   "outputs": [],
   "source": [
    "allmessages=requests.get(f\"http://localhost:8080/chat/{chat_id}/list\")"
   ]
  },
  {
   "cell_type": "code",
   "execution_count": 752,
   "metadata": {},
   "outputs": [
    {
     "data": {
      "text/plain": [
       "'[{\"Messages\": [{\"message_id\": {\"$oid\": \"5eaf566bec7ef6471c6b1938\"}, \"Users\": \"5eaf5579ec7ef6471c6b1933\", \"text\": \"It\\\\u2019s not Elvish. It\\\\u2019s the language of Mordor written in Elvish script. One Ring to\"}, {\"message_id\": {\"$oid\": \"5eaf5686ec7ef6471c6b1939\"}, \"Users\": \"5eaf5579ec7ef6471c6b1934\", \"text\": \"Ah cool.\"}, {\"message_id\": {\"$oid\": \"5eaf5779ec7ef6471c6b193a\"}, \"Users\": \"5eaf5579ec7ef6471c6b1933\", \"text\": \"In what world is a four-four-six-four a four-ten-four?\"}, {\"message_id\": {\"$oid\": \"5eaf57a3ec7ef6471c6b193b\"}, \"Users\": \"5eaf5579ec7ef6471c6b1936\", \"text\": \"Oh. You could tell it to me.\"}, {\"message_id\": {\"$oid\": \"5eaf57a5ec7ef6471c6b193c\"}, \"Users\": \"5eaf5579ec7ef6471c6b1935\", \"text\": \"So I\\\\u2019m running out of time.\"}, {\"message_id\": {\"$oid\": \"5eaf5809ec7ef6471c6b193d\"}, \"Users\": \"5eaf5579ec7ef6471c6b1936\", \"text\": \"Physics. .\"}, {\"message_id\": {\"$oid\": \"5eaf580aec7ef6471c6b193e\"}, \"Users\": \"5eaf5579ec7ef6471c6b1934\", \"text\": \"I think that\\\\u2019s a week from Tuesday at six.\"}, {\"message_id\": {\"$oid\": \"5eaf580bec7ef6471c6b193f\"}, \"Users\": \"5eaf5579ec7ef6471c6b1935\", \"text\": \"Yeah come on Raj.\"}, {\"message_id\": {\"$oid\": \"5eaf580eec7ef6471c6b1940\"}, \"Users\": \"5eaf5579ec7ef6471c6b1933\", \"text\": \"What if the fighting is the reason we\\\\u2019re making progress?\"}, {\"message_id\": {\"$oid\": \"5eaf580fec7ef6471c6b1941\"}, \"Users\": \"5eaf5579ec7ef6471c6b1934\", \"text\": \"Oh yeah? Spell asthma.\"}, {\"message_id\": {\"$oid\": \"5eaf5810ec7ef6471c6b1942\"}, \"Users\": \"5eaf5579ec7ef6471c6b1935\", \"text\": \"We came to apologize.\"}, {\"message_id\": {\"$oid\": \"5eaf5811ec7ef6471c6b1943\"}, \"Users\": \"5eaf5579ec7ef6471c6b1936\", \"text\": \"It sounds like a uh contract might be in order.\"}, {\"message_id\": {\"$oid\": \"5eaf585eec7ef6471c6b1944\"}, \"Users\": \"5eaf5579ec7ef6471c6b1932\", \"text\": \"No. I had a date with a proper education. Instead of a tuxedo I dressed myself in good habits. Instead of spiked punch I enjoyed the intoxicating flavour of knowledge. Instead of dancing in a gym I shook my bootyto the seductive rhythms\\\\u2026\"}, {\"message_id\": {\"$oid\": \"5eaf5867ec7ef6471c6b1945\"}, \"Users\": \"5eaf5579ec7ef6471c6b1933\", \"text\": \"Well I mean yeah it freaked me out a little but that\\\\u2019s my issue not yours.\"}, {\"message_id\": {\"$oid\": \"5eaf5868ec7ef6471c6b1946\"}, \"Users\": \"5eaf5579ec7ef6471c6b1932\", \"text\": \"Check it out. It\\\\u2019s the gas I use in my free-electron laser to support high voltages. But it also has an interesting secondary use. Here. Breathe this in.\"}, {\"message_id\": {\"$oid\": \"5eaf5868ec7ef6471c6b1947\"}, \"Users\": \"5eaf5579ec7ef6471c6b1933\", \"text\": \"And I could not have done it without you.\"}, {\"message_id\": {\"$oid\": \"5eaf5869ec7ef6471c6b1948\"}, \"Users\": \"5eaf5579ec7ef6471c6b1934\", \"text\": \"Sheldon relax she doesn\\\\u2019t have any symptoms I\\\\u2019m sure she\\\\u2019s not contagious.\"}, {\"message_id\": {\"$oid\": \"5eaf5869ec7ef6471c6b1949\"}, \"Users\": \"5eaf5579ec7ef6471c6b1935\", \"text\": \"Get it? Because you clogged up her bathroom like a radioactive monster!\"}, {\"message_id\": {\"$oid\": \"5eaf58f0ec7ef6471c6b194a\"}, \"Users\": \"5eaf5579ec7ef6471c6b1932\", \"text\": \"Wow Raj you were not lying about her.\"}, {\"message_id\": {\"$oid\": \"5eaf58f0ec7ef6471c6b194b\"}, \"Users\": \"5eaf5579ec7ef6471c6b1933\", \"text\": \"We\\\\u2019re going to Disney World and ride the Matterhorn?\"}, {\"message_id\": {\"$oid\": \"5eaf58f1ec7ef6471c6b194c\"}, \"Users\": \"5eaf5579ec7ef6471c6b1934\", \"text\": \"Excuse me. Here look up fun get back to me.\"}, {\"message_id\": {\"$oid\": \"5eaf58f1ec7ef6471c6b194d\"}, \"Users\": \"5eaf5579ec7ef6471c6b1935\", \"text\": \"Yeah. Sorry sorry. Can I tell you a secret?\"}, {\"message_id\": {\"$oid\": \"5eaf58f1ec7ef6471c6b194e\"}, \"Users\": \"5eaf5579ec7ef6471c6b1936\", \"text\": \"In a minute. I don\\\\u2019t understand why any success you have in acting is more important than any I have in science.\"}]}]'"
      ]
     },
     "execution_count": 752,
     "metadata": {},
     "output_type": "execute_result"
    }
   ],
   "source": [
    "allmessages.text"
   ]
  },
  {
   "cell_type": "markdown",
   "metadata": {},
   "source": [
    "### GET all sentiments from messages in the chat "
   ]
  },
  {
   "cell_type": "code",
   "execution_count": 753,
   "metadata": {
    "scrolled": false
   },
   "outputs": [
    {
     "data": {
      "text/plain": [
       "<bound method Response.json of <Response [200]>>"
      ]
     },
     "execution_count": 753,
     "metadata": {},
     "output_type": "execute_result"
    }
   ],
   "source": [
    "sentiments = requests.get(f\"http://localhost:8080/chat/{chat_id}/sentiment\")\n",
    "sentiments.json"
   ]
  },
  {
   "cell_type": "code",
   "execution_count": 754,
   "metadata": {},
   "outputs": [
    {
     "data": {
      "text/plain": [
       "'{\"neg\": 0.044, \"neu\": 0.742, \"pos\": 0.214, \"compound\": 0.9928}'"
      ]
     },
     "execution_count": 754,
     "metadata": {},
     "output_type": "execute_result"
    }
   ],
   "source": [
    "sentiments.text"
   ]
  },
  {
   "cell_type": "markdown",
   "metadata": {},
   "source": [
    "# 3. User recomendation"
   ]
  },
  {
   "cell_type": "code",
   "execution_count": null,
   "metadata": {},
   "outputs": [],
   "source": []
  }
 ],
 "metadata": {
  "kernelspec": {
   "display_name": "Python 3",
   "language": "python",
   "name": "python3"
  },
  "language_info": {
   "codemirror_mode": {
    "name": "ipython",
    "version": 3
   },
   "file_extension": ".py",
   "mimetype": "text/x-python",
   "name": "python",
   "nbconvert_exporter": "python",
   "pygments_lexer": "ipython3",
   "version": "3.8.2"
  }
 },
 "nbformat": 4,
 "nbformat_minor": 4
}
